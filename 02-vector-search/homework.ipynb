{
 "cells": [
  {
   "cell_type": "markdown",
   "id": "76941fdf-881d-4ddf-85a8-ff91af253238",
   "metadata": {},
   "source": [
    "## Question 1"
   ]
  },
  {
   "cell_type": "code",
   "execution_count": 1,
   "id": "3acf808b-e42a-441c-8ddd-9a65d7bff8cd",
   "metadata": {},
   "outputs": [],
   "source": [
    "from fastembed import TextEmbedding"
   ]
  },
  {
   "cell_type": "code",
   "execution_count": 2,
   "id": "8c1e86ea-23bc-4016-a920-36e9d3edf929",
   "metadata": {},
   "outputs": [],
   "source": [
    "import numpy as np"
   ]
  },
  {
   "cell_type": "code",
   "execution_count": 3,
   "id": "466d1a1a-aca8-4edb-9e9e-f0bf06e037bb",
   "metadata": {},
   "outputs": [
    {
     "data": {
      "application/vnd.jupyter.widget-view+json": {
       "model_id": "0f76eaa206684141a0b881d90d8d1d0e",
       "version_major": 2,
       "version_minor": 0
      },
      "text/plain": [
       "Fetching 5 files:   0%|          | 0/5 [00:00<?, ?it/s]"
      ]
     },
     "metadata": {},
     "output_type": "display_data"
    },
    {
     "data": {
      "application/vnd.jupyter.widget-view+json": {
       "model_id": "114b6be3c44b4a749ac00fa68bec3614",
       "version_major": 2,
       "version_minor": 0
      },
      "text/plain": [
       "special_tokens_map.json:   0%|          | 0.00/125 [00:00<?, ?B/s]"
      ]
     },
     "metadata": {},
     "output_type": "display_data"
    },
    {
     "data": {
      "application/vnd.jupyter.widget-view+json": {
       "model_id": "f985ba9ee29d4b5f9b73d9b3b448780d",
       "version_major": 2,
       "version_minor": 0
      },
      "text/plain": [
       "tokenizer_config.json:   0%|          | 0.00/367 [00:00<?, ?B/s]"
      ]
     },
     "metadata": {},
     "output_type": "display_data"
    },
    {
     "data": {
      "application/vnd.jupyter.widget-view+json": {
       "model_id": "975a6691751b415d94130583c4fdf622",
       "version_major": 2,
       "version_minor": 0
      },
      "text/plain": [
       "config.json: 0.00B [00:00, ?B/s]"
      ]
     },
     "metadata": {},
     "output_type": "display_data"
    },
    {
     "data": {
      "application/vnd.jupyter.widget-view+json": {
       "model_id": "9a49f7a1193e46829d0e1303c42b496c",
       "version_major": 2,
       "version_minor": 0
      },
      "text/plain": [
       "tokenizer.json: 0.00B [00:00, ?B/s]"
      ]
     },
     "metadata": {},
     "output_type": "display_data"
    },
    {
     "data": {
      "application/vnd.jupyter.widget-view+json": {
       "model_id": "37b3287656134614bedfe7769dd0fa44",
       "version_major": 2,
       "version_minor": 0
      },
      "text/plain": [
       "onnx/model.onnx:   0%|          | 0.00/130M [00:00<?, ?B/s]"
      ]
     },
     "metadata": {},
     "output_type": "display_data"
    }
   ],
   "source": [
    "query = 'I just discovered the course. Can I join now?'\n",
    "model = TextEmbedding(model_name=\"jinaai/jina-embeddings-v2-small-en\")\n",
    "embedding = list(model.embed([query]))"
   ]
  },
  {
   "cell_type": "code",
   "execution_count": 4,
   "id": "f909de12-5dd4-4a06-9049-919512b553d1",
   "metadata": {},
   "outputs": [
    {
     "name": "stdout",
     "output_type": "stream",
     "text": [
      "(512,)\n",
      "-0.11726373885183883\n"
     ]
    }
   ],
   "source": [
    "print(embedding[0].shape)\n",
    "print(np.min(embedding[0]))"
   ]
  },
  {
   "cell_type": "code",
   "execution_count": 5,
   "id": "24242090-a451-4e6b-84a7-3b7604db9c81",
   "metadata": {},
   "outputs": [
    {
     "name": "stdout",
     "output_type": "stream",
     "text": [
      "1.0\n"
     ]
    }
   ],
   "source": [
    "q = embedding[0]\n",
    "print(np.linalg.norm(q))"
   ]
  },
  {
   "cell_type": "code",
   "execution_count": 6,
   "id": "96968992-874c-4b39-9402-1cda5fa3a7ae",
   "metadata": {},
   "outputs": [
    {
     "name": "stdout",
     "output_type": "stream",
     "text": [
      "1.0000000000000002\n"
     ]
    }
   ],
   "source": [
    "print(q.dot(q))"
   ]
  },
  {
   "cell_type": "markdown",
   "id": "8e1ba50b-81b7-43db-8653-d9907c7d7e86",
   "metadata": {},
   "source": [
    "## Question 2"
   ]
  },
  {
   "cell_type": "code",
   "execution_count": 7,
   "id": "aa289595-47b3-46aa-bb05-e7cddced46b1",
   "metadata": {},
   "outputs": [],
   "source": [
    "doc = 'Can I still join the course after the start date?'"
   ]
  },
  {
   "cell_type": "code",
   "execution_count": 8,
   "id": "98e30d92-e43a-4c8e-b04c-98424fcbf9cc",
   "metadata": {},
   "outputs": [],
   "source": [
    "embedded_doc = list(model.embed([doc]))\n",
    "embedded_doc = embedded_doc[0]"
   ]
  },
  {
   "cell_type": "code",
   "execution_count": 9,
   "id": "d25e93e1-6666-4d8c-8e57-64acdcf0fea3",
   "metadata": {},
   "outputs": [
    {
     "name": "stdout",
     "output_type": "stream",
     "text": [
      "0.9008528895674548\n"
     ]
    }
   ],
   "source": [
    "print(np.dot(q, embedded_doc))"
   ]
  },
  {
   "cell_type": "markdown",
   "id": "b70cc13c-7d91-40e7-be72-254a33bc75db",
   "metadata": {},
   "source": [
    "## Question 3"
   ]
  },
  {
   "cell_type": "code",
   "execution_count": 10,
   "id": "0fad7cad-a9f9-4898-a57f-ba5de95428ba",
   "metadata": {},
   "outputs": [],
   "source": [
    "documents = [{'text': \"Yes, even if you don't register, you're still eligible to submit the homeworks.\\nBe aware, however, that there will be deadlines for turning in the final projects. So don't leave everything for the last minute.\",\n",
    "  'section': 'General course-related questions',\n",
    "  'question': 'Course - Can I still join the course after the start date?',\n",
    "  'course': 'data-engineering-zoomcamp'},\n",
    " {'text': 'Yes, we will keep all the materials after the course finishes, so you can follow the course at your own pace after it finishes.\\nYou can also continue looking at the homeworks and continue preparing for the next cohort. I guess you can also start working on your final capstone project.',\n",
    "  'section': 'General course-related questions',\n",
    "  'question': 'Course - Can I follow the course after it finishes?',\n",
    "  'course': 'data-engineering-zoomcamp'},\n",
    " {'text': \"The purpose of this document is to capture frequently asked technical questions\\nThe exact day and hour of the course will be 15th Jan 2024 at 17h00. The course will start with the first  “Office Hours'' live.1\\nSubscribe to course public Google Calendar (it works from Desktop only).\\nRegister before the course starts using this link.\\nJoin the course Telegram channel with announcements.\\nDon’t forget to register in DataTalks.Club's Slack and join the channel.\",\n",
    "  'section': 'General course-related questions',\n",
    "  'question': 'Course - When will the course start?',\n",
    "  'course': 'data-engineering-zoomcamp'},\n",
    " {'text': 'You can start by installing and setting up all the dependencies and requirements:\\nGoogle cloud account\\nGoogle Cloud SDK\\nPython 3 (installed with Anaconda)\\nTerraform\\nGit\\nLook over the prerequisites and syllabus to see if you are comfortable with these subjects.',\n",
    "  'section': 'General course-related questions',\n",
    "  'question': 'Course - What can I do before the course starts?',\n",
    "  'course': 'data-engineering-zoomcamp'},\n",
    " {'text': 'Star the repo! Share it with friends if you find it useful ❣️\\nCreate a PR if you see you can improve the text or the structure of the repository.',\n",
    "  'section': 'General course-related questions',\n",
    "  'question': 'How can we contribute to the course?',\n",
    "  'course': 'data-engineering-zoomcamp'}]"
   ]
  },
  {
   "cell_type": "code",
   "execution_count": 11,
   "id": "f682ef11-41ee-4826-a431-e1115dcc79b7",
   "metadata": {},
   "outputs": [],
   "source": [
    "texts = [doc['text'] for doc in documents]"
   ]
  },
  {
   "cell_type": "code",
   "execution_count": 12,
   "id": "af2db5b4-adda-48f8-9a52-104e5d2603dc",
   "metadata": {},
   "outputs": [],
   "source": [
    "emdedded_texts = list(model.embed(texts))"
   ]
  },
  {
   "cell_type": "code",
   "execution_count": 13,
   "id": "44f45df9-bf05-4960-a937-32c2f8a8116e",
   "metadata": {},
   "outputs": [
    {
     "name": "stdout",
     "output_type": "stream",
     "text": [
      "(5, 512)\n"
     ]
    }
   ],
   "source": [
    "emdedded_texts = np.array(emdedded_texts)\n",
    "print(emdedded_texts.shape)"
   ]
  },
  {
   "cell_type": "code",
   "execution_count": 14,
   "id": "42741791-ba32-431c-a9ec-1d8247bbbc75",
   "metadata": {},
   "outputs": [
    {
     "name": "stdout",
     "output_type": "stream",
     "text": [
      "(5,)\n",
      "1\n",
      "0.8182378156620135\n"
     ]
    }
   ],
   "source": [
    "scores = emdedded_texts.dot(q)\n",
    "print(scores.shape)\n",
    "print(np.argmax(scores))\n",
    "print(np.max(scores))"
   ]
  },
  {
   "cell_type": "markdown",
   "id": "06fe733e-166e-41b1-9479-627bf891a6d5",
   "metadata": {},
   "source": [
    "## Question 4"
   ]
  },
  {
   "cell_type": "code",
   "execution_count": 15,
   "id": "7fb8bb62-60d5-4922-8b62-a2be47e8800a",
   "metadata": {},
   "outputs": [],
   "source": [
    "full_texts = [doc['question'] + ' ' + doc['text'] for doc in documents]"
   ]
  },
  {
   "cell_type": "code",
   "execution_count": 16,
   "id": "24b3e123-b790-4a82-97d7-056d30681199",
   "metadata": {},
   "outputs": [
    {
     "name": "stdout",
     "output_type": "stream",
     "text": [
      "(5, 512)\n"
     ]
    }
   ],
   "source": [
    "emdedded_full_texts = list(model.embed(full_texts))\n",
    "emdedded_full_texts = np.array(emdedded_full_texts)\n",
    "print(emdedded_full_texts.shape)"
   ]
  },
  {
   "cell_type": "code",
   "execution_count": 17,
   "id": "ecb8577a-afca-4232-903a-096bc921b716",
   "metadata": {},
   "outputs": [
    {
     "name": "stdout",
     "output_type": "stream",
     "text": [
      "(5,)\n",
      "0\n",
      "0.851454319443226\n"
     ]
    }
   ],
   "source": [
    "scores = emdedded_full_texts.dot(q)\n",
    "print(scores.shape)\n",
    "print(np.argmax(scores))\n",
    "print(np.max(scores))"
   ]
  },
  {
   "cell_type": "markdown",
   "id": "3ee50343-5f59-4689-8d11-35c6308bf38a",
   "metadata": {},
   "source": [
    "## Question 5"
   ]
  },
  {
   "cell_type": "code",
   "execution_count": 4,
   "id": "64d1e641-cc4d-4c5c-b46b-3158d023c60c",
   "metadata": {},
   "outputs": [
    {
     "name": "stdout",
     "output_type": "stream",
     "text": [
      "minimal dimensionality : 384\n"
     ]
    }
   ],
   "source": [
    "dimensions = [model[\"dim\"] for model in TextEmbedding.list_supported_models()]\n",
    "dimensions = np.array(dimensions)\n",
    "min_dimensionality = np.min(dimensions)\n",
    "print(f'minimal dimensionality : {min_dimensionality}')"
   ]
  },
  {
   "cell_type": "code",
   "execution_count": 5,
   "id": "3546666f-24e5-4f03-958e-10380a5be161",
   "metadata": {},
   "outputs": [
    {
     "name": "stdout",
     "output_type": "stream",
     "text": [
      "Model BAAI/bge-small-en has dimension 384\n"
     ]
    }
   ],
   "source": [
    "dim_384_models = []\n",
    "for model in TextEmbedding.list_supported_models():\n",
    "    if model[\"dim\"] == min_dimensionality:\n",
    "        dim_384_models.append(model['model'])\n",
    "if 'BAAI/bge-small-en' in dim_384_models:\n",
    "    print(f'Model BAAI/bge-small-en has dimension {min_dimensionality}')"
   ]
  },
  {
   "cell_type": "markdown",
   "id": "780a7d50-30b6-4d82-98ae-7bc587e56739",
   "metadata": {},
   "source": [
    "## Question 6"
   ]
  },
  {
   "cell_type": "code",
   "execution_count": 6,
   "id": "81aac063-fe6b-43a0-afe2-f83e2afcf806",
   "metadata": {},
   "outputs": [],
   "source": [
    "import requests \n",
    "\n",
    "docs_url = 'https://github.com/alexeygrigorev/llm-rag-workshop/raw/main/notebooks/documents.json'\n",
    "docs_response = requests.get(docs_url)\n",
    "documents_raw = docs_response.json()\n",
    "\n",
    "\n",
    "documents = []\n",
    "\n",
    "for course in documents_raw:\n",
    "    course_name = course['course']\n",
    "    if course_name != 'machine-learning-zoomcamp':\n",
    "        continue\n",
    "\n",
    "    for doc in course['documents']:\n",
    "        doc['course'] = course_name\n",
    "        documents.append(doc)"
   ]
  },
  {
   "cell_type": "code",
   "execution_count": 7,
   "id": "d89dee6c-94f0-45c9-a6da-152a701724bf",
   "metadata": {},
   "outputs": [],
   "source": [
    "EMBEDDING_DIMENSIONALITY = min_dimensionality\n",
    "model_handle = 'BAAI/bge-small-en'"
   ]
  },
  {
   "cell_type": "code",
   "execution_count": 8,
   "id": "2efc9efc-355b-4332-aaf0-65009ea8e900",
   "metadata": {},
   "outputs": [],
   "source": [
    "collection_name = \"machine-learning-zoomcamp-faq\""
   ]
  },
  {
   "cell_type": "code",
   "execution_count": 9,
   "id": "683eb83d-fd4e-4367-948b-c2fdb92ea0c6",
   "metadata": {},
   "outputs": [],
   "source": [
    "from qdrant_client import QdrantClient, models\n",
    "qd_client = QdrantClient(\"http://localhost:6333\")"
   ]
  },
  {
   "cell_type": "code",
   "execution_count": 10,
   "id": "45ff99b0-51d8-4f0a-9e7a-3462bca2e9cd",
   "metadata": {},
   "outputs": [
    {
     "data": {
      "text/plain": [
       "True"
      ]
     },
     "execution_count": 10,
     "metadata": {},
     "output_type": "execute_result"
    }
   ],
   "source": [
    "qd_client.create_collection(\n",
    "    collection_name=collection_name,\n",
    "    vectors_config=models.VectorParams(\n",
    "        size=EMBEDDING_DIMENSIONALITY,\n",
    "        distance=models.Distance.COSINE\n",
    "    )\n",
    ")"
   ]
  },
  {
   "cell_type": "code",
   "execution_count": 11,
   "id": "b02ea12d-b324-48b9-a018-1b7117df7485",
   "metadata": {},
   "outputs": [],
   "source": [
    "points = []\n",
    "\n",
    "for i, doc in enumerate(documents):\n",
    "    text = doc['question'] + ' ' + doc['text']\n",
    "    vector = models.Document(text=text, model=model_handle)\n",
    "    point = models.PointStruct(\n",
    "        id=i,\n",
    "        vector=vector,\n",
    "        payload=doc\n",
    "    )\n",
    "    points.append(point)"
   ]
  },
  {
   "cell_type": "code",
   "execution_count": 12,
   "id": "5f8124a5-3820-40eb-9e00-7a88d4774753",
   "metadata": {},
   "outputs": [
    {
     "data": {
      "application/vnd.jupyter.widget-view+json": {
       "model_id": "59ff0dd1a30945b7986b20f52a990727",
       "version_major": 2,
       "version_minor": 0
      },
      "text/plain": [
       "Fetching 5 files:   0%|          | 0/5 [00:00<?, ?it/s]"
      ]
     },
     "metadata": {},
     "output_type": "display_data"
    },
    {
     "data": {
      "application/vnd.jupyter.widget-view+json": {
       "model_id": "2dff7ca728f94606a362a4f2f5ea3285",
       "version_major": 2,
       "version_minor": 0
      },
      "text/plain": [
       "tokenizer.json: 0.00B [00:00, ?B/s]"
      ]
     },
     "metadata": {},
     "output_type": "display_data"
    },
    {
     "data": {
      "application/vnd.jupyter.widget-view+json": {
       "model_id": "136ac01da54741e59718495c8555cd80",
       "version_major": 2,
       "version_minor": 0
      },
      "text/plain": [
       "special_tokens_map.json:   0%|          | 0.00/125 [00:00<?, ?B/s]"
      ]
     },
     "metadata": {},
     "output_type": "display_data"
    },
    {
     "data": {
      "application/vnd.jupyter.widget-view+json": {
       "model_id": "2027602bc1df4040bf489873ab83eefe",
       "version_major": 2,
       "version_minor": 0
      },
      "text/plain": [
       "config.json:   0%|          | 0.00/701 [00:00<?, ?B/s]"
      ]
     },
     "metadata": {},
     "output_type": "display_data"
    },
    {
     "data": {
      "application/vnd.jupyter.widget-view+json": {
       "model_id": "fdb43f8caaf24f90a19e753b78c683ee",
       "version_major": 2,
       "version_minor": 0
      },
      "text/plain": [
       "tokenizer_config.json:   0%|          | 0.00/366 [00:00<?, ?B/s]"
      ]
     },
     "metadata": {},
     "output_type": "display_data"
    },
    {
     "data": {
      "application/vnd.jupyter.widget-view+json": {
       "model_id": "3586eacb906a4b209e0ddefe33ea7aa1",
       "version_major": 2,
       "version_minor": 0
      },
      "text/plain": [
       "model_optimized.onnx:   0%|          | 0.00/133M [00:00<?, ?B/s]"
      ]
     },
     "metadata": {},
     "output_type": "display_data"
    },
    {
     "data": {
      "text/plain": [
       "UpdateResult(operation_id=0, status=<UpdateStatus.COMPLETED: 'completed'>)"
      ]
     },
     "execution_count": 12,
     "metadata": {},
     "output_type": "execute_result"
    }
   ],
   "source": [
    "qd_client.upsert(\n",
    "    collection_name=collection_name,\n",
    "    points=points\n",
    ")"
   ]
  },
  {
   "cell_type": "code",
   "execution_count": null,
   "id": "0786051e-5a41-4f45-b180-e5092d2bb538",
   "metadata": {},
   "outputs": [],
   "source": [
    "query_points = qd_client.query_points(\n",
    "    collection_name=collection_name,\n",
    "    query=models.Document(\n",
    "        text=query,\n",
    "        model=model_handle \n",
    "    ),\n",
    "    limit=5,\n",
    "    with_payload=True\n",
    ")"
   ]
  },
  {
   "cell_type": "code",
   "execution_count": 22,
   "id": "7d89c7aa-df9d-4d13-a01e-1625876f4798",
   "metadata": {},
   "outputs": [
    {
     "name": "stdout",
     "output_type": "stream",
     "text": [
      "max score is 0.87031734\n"
     ]
    }
   ],
   "source": [
    "if len(query_points.points) > 0:\n",
    "    print(f'max score is {query_points.points[0].score}')\n",
    "\n"
   ]
  },
  {
   "cell_type": "code",
   "execution_count": 23,
   "id": "f94bd5cd-962b-4db7-bb6f-53b63fcc8ba3",
   "metadata": {},
   "outputs": [
    {
     "data": {
      "text/plain": [
       "{'text': 'Yes, you can. You won’t be able to submit some of the homeworks, but you can still take part in the course.\\nIn order to get a certificate, you need to submit 2 out of 3 course projects and review 3 peers’ Projects by the deadline. It means that if you join the course at the end of November and manage to work on two projects, you will still be eligible for a certificate.',\n",
       " 'section': 'General course-related questions',\n",
       " 'question': 'The course has already started. Can I still join it?',\n",
       " 'course': 'machine-learning-zoomcamp'}"
      ]
     },
     "execution_count": 23,
     "metadata": {},
     "output_type": "execute_result"
    }
   ],
   "source": [
    "query_points.points[0].payload"
   ]
  },
  {
   "cell_type": "code",
   "execution_count": null,
   "id": "3dd93e60-f272-4785-872f-12317fe219a2",
   "metadata": {},
   "outputs": [],
   "source": []
  }
 ],
 "metadata": {
  "kernelspec": {
   "display_name": "Python 3 (ipykernel)",
   "language": "python",
   "name": "python3"
  },
  "language_info": {
   "codemirror_mode": {
    "name": "ipython",
    "version": 3
   },
   "file_extension": ".py",
   "mimetype": "text/x-python",
   "name": "python",
   "nbconvert_exporter": "python",
   "pygments_lexer": "ipython3",
   "version": "3.10.18"
  }
 },
 "nbformat": 4,
 "nbformat_minor": 5
}
